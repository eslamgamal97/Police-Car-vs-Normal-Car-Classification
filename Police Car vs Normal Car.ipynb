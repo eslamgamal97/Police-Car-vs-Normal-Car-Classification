{
 "cells": [
  {
   "cell_type": "markdown",
   "metadata": {},
   "source": [
    "# Import Packages"
   ]
  },
  {
   "cell_type": "code",
   "execution_count": 73,
   "metadata": {},
   "outputs": [],
   "source": [
    "import os\n",
    "import tensorflow as tf\n",
    "from tensorflow.keras.optimizers import RMSprop\n",
    "from tensorflow.keras.preprocessing.image import ImageDataGenerator"
   ]
  },
  {
   "cell_type": "markdown",
   "metadata": {},
   "source": [
    "# Number of Images"
   ]
  },
  {
   "cell_type": "code",
   "execution_count": 3,
   "metadata": {},
   "outputs": [
    {
     "name": "stdout",
     "output_type": "stream",
     "text": [
      "2091\n",
      "2160\n",
      "923\n",
      "926\n"
     ]
    }
   ],
   "source": [
    "print(len(os.listdir('dataset/train/police')))\n",
    "print(len(os.listdir('dataset/train/regular')))\n",
    "print(len(os.listdir('dataset/validate/police')))\n",
    "print(len(os.listdir('dataset/validate/regular')))"
   ]
  },
  {
   "cell_type": "markdown",
   "metadata": {},
   "source": [
    "# Design a model"
   ]
  },
  {
   "cell_type": "code",
   "execution_count": 4,
   "metadata": {},
   "outputs": [
    {
     "name": "stdout",
     "output_type": "stream",
     "text": [
      "WARNING:tensorflow:From f:\\anaconda\\lib\\site-packages\\tensorflow\\python\\ops\\init_ops.py:1251: calling VarianceScaling.__init__ (from tensorflow.python.ops.init_ops) with dtype is deprecated and will be removed in a future version.\n",
      "Instructions for updating:\n",
      "Call initializer instance with the dtype argument instead of passing it to the constructor\n",
      "WARNING:tensorflow:From f:\\anaconda\\lib\\site-packages\\tensorflow\\python\\ops\\nn_impl.py:180: add_dispatch_support.<locals>.wrapper (from tensorflow.python.ops.array_ops) is deprecated and will be removed in a future version.\n",
      "Instructions for updating:\n",
      "Use tf.where in 2.0, which has the same broadcast rule as np.where\n"
     ]
    }
   ],
   "source": [
    "model = tf.keras.models.Sequential([\n",
    "    tf.keras.layers.Conv2D(16, (3, 3), activation='relu', input_shape=(150, 150, 3)),\n",
    "    tf.keras.layers.MaxPooling2D(2, 2),\n",
    "    tf.keras.layers.Conv2D(32, (3, 3), activation='relu'),\n",
    "    tf.keras.layers.MaxPooling2D(2, 2),\n",
    "    tf.keras.layers.Conv2D(64, (3, 3), activation='relu'),\n",
    "    tf.keras.layers.MaxPooling2D(2, 2),\n",
    "    tf.keras.layers.Flatten(),\n",
    "    tf.keras.layers.Dense(512, activation='relu'),\n",
    "    tf.keras.layers.Dense(1, activation='sigmoid')\n",
    "])\n",
    "\n",
    "model.compile(optimizer=RMSprop(lr=0.001), loss='binary_crossentropy', metrics=['acc'])\n"
   ]
  },
  {
   "cell_type": "markdown",
   "metadata": {},
   "source": [
    "# Image Data Generator"
   ]
  },
  {
   "cell_type": "code",
   "execution_count": 69,
   "metadata": {},
   "outputs": [
    {
     "name": "stdout",
     "output_type": "stream",
     "text": [
      "Found 4239 images belonging to 2 classes.\n",
      "Found 1825 images belonging to 2 classes.\n"
     ]
    }
   ],
   "source": [
    "TRAINING_DIR = \"dataset\\\\train\\\\\"\n",
    "train_datagen = ImageDataGenerator(rescale=1./255,\n",
    "      rotation_range=40,\n",
    "      width_shift_range=0.2,\n",
    "      height_shift_range=0.2,\n",
    "      shear_range=0.2,\n",
    "      zoom_range=0.2,\n",
    "      horizontal_flip=True,\n",
    "      fill_mode='nearest')\n",
    "train_generator = train_datagen.flow_from_directory(TRAINING_DIR,\n",
    "                                                    batch_size=100,\n",
    "                                                    class_mode='binary',\n",
    "                                                    target_size=(150, 150))\n",
    "\n",
    "VALIDATION_DIR = \"dataset\\\\validate\\\\\"\n",
    "validation_datagen = ImageDataGenerator(rescale=1./255)\n",
    "validation_generator = validation_datagen.flow_from_directory(VALIDATION_DIR,\n",
    "                                                              batch_size=100,\n",
    "                                                              class_mode='binary',\n",
    "                                                              target_size=(150, 150))"
   ]
  },
  {
   "cell_type": "markdown",
   "metadata": {},
   "source": [
    "# Run the model"
   ]
  },
  {
   "cell_type": "code",
   "execution_count": 76,
   "metadata": {
    "scrolled": true
   },
   "outputs": [
    {
     "name": "stdout",
     "output_type": "stream",
     "text": [
      "Epoch 1/20\n",
      "43/43 [==============================] - 245s 6s/step - loss: 0.2064 - acc: 0.9196 - val_loss: 0.2496 - val_acc: 0.9112\n",
      "Epoch 2/20\n",
      "43/43 [==============================] - 206s 5s/step - loss: 0.1948 - acc: 0.9226 - val_loss: 0.2296 - val_acc: 0.9107\n",
      "Epoch 3/20\n",
      "43/43 [==============================] - 205s 5s/step - loss: 0.1863 - acc: 0.9276 - val_loss: 0.2525 - val_acc: 0.9134\n",
      "Epoch 4/20\n",
      "43/43 [==============================] - 210s 5s/step - loss: 0.1879 - acc: 0.9259 - val_loss: 0.2476 - val_acc: 0.9145\n",
      "Epoch 5/20\n",
      "43/43 [==============================] - 213s 5s/step - loss: 0.1994 - acc: 0.9240 - val_loss: 0.2368 - val_acc: 0.9195\n",
      "Epoch 6/20\n",
      "43/43 [==============================] - 217s 5s/step - loss: 0.1839 - acc: 0.9302 - val_loss: 0.2705 - val_acc: 0.8942\n",
      "Epoch 7/20\n",
      "43/43 [==============================] - 198s 5s/step - loss: 0.1855 - acc: 0.9196 - val_loss: 0.2162 - val_acc: 0.9151\n",
      "Epoch 8/20\n",
      "43/43 [==============================] - 226s 5s/step - loss: 0.1905 - acc: 0.9233 - val_loss: 0.2260 - val_acc: 0.9227\n",
      "Epoch 9/20\n",
      "43/43 [==============================] - 218s 5s/step - loss: 0.1851 - acc: 0.9280 - val_loss: 0.2827 - val_acc: 0.9052\n",
      "Epoch 10/20\n",
      "43/43 [==============================] - 218s 5s/step - loss: 0.1885 - acc: 0.9266 - val_loss: 0.2214 - val_acc: 0.9249\n",
      "Epoch 11/20\n",
      "43/43 [==============================] - 231s 5s/step - loss: 0.1801 - acc: 0.9306 - val_loss: 0.2563 - val_acc: 0.9112\n",
      "Epoch 12/20\n",
      "43/43 [==============================] - 218s 5s/step - loss: 0.1860 - acc: 0.9247 - val_loss: 0.2212 - val_acc: 0.9200\n",
      "Epoch 13/20\n",
      "43/43 [==============================] - 197s 5s/step - loss: 0.1826 - acc: 0.9332 - val_loss: 0.2269 - val_acc: 0.9205\n",
      "Epoch 14/20\n",
      "43/43 [==============================] - 212s 5s/step - loss: 0.1859 - acc: 0.9255 - val_loss: 0.2421 - val_acc: 0.9156\n",
      "Epoch 15/20\n",
      "43/43 [==============================] - 184s 4s/step - loss: 0.1797 - acc: 0.9314 - val_loss: 0.2303 - val_acc: 0.9195\n",
      "Epoch 16/20\n",
      "43/43 [==============================] - 181s 4s/step - loss: 0.1874 - acc: 0.9280 - val_loss: 0.2117 - val_acc: 0.9255\n",
      "Epoch 17/20\n",
      "43/43 [==============================] - 216s 5s/step - loss: 0.1741 - acc: 0.9297 - val_loss: 0.2161 - val_acc: 0.9178\n",
      "Epoch 18/20\n",
      "43/43 [==============================] - 219s 5s/step - loss: 0.1690 - acc: 0.9339 - val_loss: 0.2190 - val_acc: 0.9216\n",
      "Epoch 19/20\n",
      "43/43 [==============================] - 248s 6s/step - loss: 0.1815 - acc: 0.9349 - val_loss: 0.2178 - val_acc: 0.9167\n",
      "Epoch 20/20\n",
      "43/43 [==============================] - 194s 5s/step - loss: 0.1706 - acc: 0.9349 - val_loss: 0.2360 - val_acc: 0.9167\n"
     ]
    }
   ],
   "source": [
    "history = model.fit_generator(train_generator,\n",
    "                              epochs=20,\n",
    "                              verbose=1,\n",
    "                              validation_data=validation_generator)"
   ]
  },
  {
   "cell_type": "markdown",
   "metadata": {},
   "source": [
    "# Plot accuracy and loss graph"
   ]
  },
  {
   "cell_type": "code",
   "execution_count": 77,
   "metadata": {},
   "outputs": [
    {
     "data": {
      "text/plain": [
       "<Figure size 432x288 with 0 Axes>"
      ]
     },
     "execution_count": 77,
     "metadata": {},
     "output_type": "execute_result"
    },
    {
     "data": {
      "image/png": "[encoded data removed]",
      "text/plain": [
       "<Figure size 432x288 with 1 Axes>"
      ]
     },
     "metadata": {
      "needs_background": "light"
     },
     "output_type": "display_data"
    },
    {
     "data": {
      "image/png": "[encoded data removed]",
      "text/plain": [
       "<Figure size 432x288 with 1 Axes>"
      ]
     },
     "metadata": {
      "needs_background": "light"
     },
     "output_type": "display_data"
    },
    {
     "data": {
      "text/plain": [
       "<Figure size 432x288 with 0 Axes>"
      ]
     },
     "metadata": {},
     "output_type": "display_data"
    }
   ],
   "source": [
    "%matplotlib inline\n",
    "\n",
    "import matplotlib.image  as mpimg\n",
    "import matplotlib.pyplot as plt\n",
    "\n",
    "#-----------------------------------------------------------\n",
    "# Retrieve a list of list results on training and test data\n",
    "# sets for each training epoch\n",
    "#-----------------------------------------------------------\n",
    "acc=history.history['acc']\n",
    "val_acc=history.history['val_acc']\n",
    "loss=history.history['loss']\n",
    "val_loss=history.history['val_loss']\n",
    "\n",
    "epochs=range(len(acc)) # Get number of epochs\n",
    "\n",
    "#------------------------------------------------\n",
    "# Plot training and validation accuracy per epoch\n",
    "#------------------------------------------------\n",
    "plt.plot(epochs, acc, 'r', \"Training Accuracy\")\n",
    "plt.plot(epochs, val_acc, 'b', \"Validation Accuracy\")\n",
    "plt.title('Training and validation accuracy')\n",
    "plt.figure()\n",
    "\n",
    "#------------------------------------------------\n",
    "# Plot training and validation loss per epoch\n",
    "#------------------------------------------------\n",
    "plt.plot(epochs, loss, 'r', \"Training Loss\")\n",
    "plt.plot(epochs, val_loss, 'b', \"Validation Loss\")\n",
    "plt.figure()\n"
   ]
  },
  {
   "cell_type": "code",
   "execution_count": null,
   "metadata": {},
   "outputs": [],
   "source": []
  }
 ],
 "metadata": {
  "kernelspec": {
   "display_name": "Python 3",
   "language": "python",
   "name": "python3"
  },
  "language_info": {
   "codemirror_mode": {
    "name": "ipython",
    "version": 3
   },
   "file_extension": ".py",
   "mimetype": "text/x-python",
   "name": "python",
   "nbconvert_exporter": "python",
   "pygments_lexer": "ipython3",
   "version": "3.7.3"
  }
 },
 "nbformat": 4,
 "nbformat_minor": 2
}
